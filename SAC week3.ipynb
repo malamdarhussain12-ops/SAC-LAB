{
 "cells": [
  {
   "cell_type": "code",
   "execution_count": 1,
   "id": "0be35c4b",
   "metadata": {},
   "outputs": [
    {
     "name": "stdout",
     "output_type": "stream",
     "text": [
      "enter the value of a:5\n",
      "enter the value of b:4\n",
      "54\n"
     ]
    }
   ],
   "source": [
    "a=input(\"enter the value of a:\")\n",
    "b=input(\"enter the value of b:\")\n",
    "print(a+b)\n"
   ]
  },
  {
   "cell_type": "code",
   "execution_count": 2,
   "id": "f6387bbe",
   "metadata": {},
   "outputs": [
    {
     "name": "stdout",
     "output_type": "stream",
     "text": [
      "enter the value of a:4\n",
      "enter the value of b:5\n",
      "9\n"
     ]
    }
   ],
   "source": [
    "a=int(input(\"enter the value of a:\"))\n",
    "b=int(input(\"enter the value of b:\"))\n",
    "print(a+b)\n"
   ]
  },
  {
   "cell_type": "code",
   "execution_count": 5,
   "id": "99263361",
   "metadata": {},
   "outputs": [
    {
     "name": "stdout",
     "output_type": "stream",
     "text": [
      "enter your name:ak\n",
      "enter your roll no:92\n",
      "i am ak & my roll no is 92\n"
     ]
    }
   ],
   "source": [
    "name=input(\"enter your name:\")\n",
    "roll_no=input(\"enter your roll no:\")\n",
    "print(\"i am {0} & my roll no is {1}\".format(name,roll_no))\n"
   ]
  },
  {
   "cell_type": "code",
   "execution_count": 6,
   "id": "ddde5076",
   "metadata": {},
   "outputs": [
    {
     "name": "stdout",
     "output_type": "stream",
     "text": [
      "the value of a is 10 & b is 20\n",
      "the value of b is 20 & a is 10\n"
     ]
    }
   ],
   "source": [
    "a=10\n",
    "b=20\n",
    "print(\"the value of a is {0} & b is {1}\".format(a,b))\n",
    "print(\"the value of b is {1} & a is {0}\".format(a,b))"
   ]
  },
  {
   "cell_type": "code",
   "execution_count": 8,
   "id": "e94c6c7a",
   "metadata": {},
   "outputs": [
    {
     "name": "stdout",
     "output_type": "stream",
     "text": [
      "you can do the impossible\n"
     ]
    }
   ],
   "source": [
    "print(\"you can do the {a}\".format(a=\"impossible\"))"
   ]
  },
  {
   "cell_type": "code",
   "execution_count": 10,
   "id": "23b5951c",
   "metadata": {},
   "outputs": [
    {
     "name": "stdout",
     "output_type": "stream",
     "text": [
      "addition of 20 & 30 is 50\n"
     ]
    }
   ],
   "source": [
    "a=20\n",
    "b=30\n",
    "print(f\"addition of {a} & {b} is {a+b}\")"
   ]
  },
  {
   "cell_type": "code",
   "execution_count": 11,
   "id": "3a4993f5",
   "metadata": {},
   "outputs": [
    {
     "name": "stdout",
     "output_type": "stream",
     "text": [
      "enter the radius of the circle65\n",
      "the area of circle is 13272.837500000001\n",
      "the circumference of the circle is 408.39500000000004\n"
     ]
    }
   ],
   "source": [
    "radius=int(input(\"enter the radius of the circle\"))\n",
    "area_of_circle=3.1415*radius*radius\n",
    "circumference=2*3.1415*radius\n",
    "print(f\"the area of circle is {area_of_circle}\")\n",
    "print(f\"the circumference of the circle is {circumference}\")"
   ]
  },
  {
   "cell_type": "code",
   "execution_count": 12,
   "id": "7465746f",
   "metadata": {},
   "outputs": [
    {
     "name": "stdout",
     "output_type": "stream",
     "text": [
      "i am 25 years old\n"
     ]
    }
   ],
   "source": [
    "age=25\n",
    "print(\"i am \"+str(age)+\" years old\")"
   ]
  },
  {
   "cell_type": "code",
   "execution_count": 13,
   "id": "9ec2cb63",
   "metadata": {},
   "outputs": [
    {
     "name": "stdout",
     "output_type": "stream",
     "text": [
      "enter your birth year:2005\n",
      " your age 20 years old\n"
     ]
    }
   ],
   "source": [
    "birth_year=int(input(\"enter your birth year:\"))\n",
    "current_year=2025\n",
    "age=current_year-birth_year\n",
    "print(f\" your age {age} years old\")"
   ]
  },
  {
   "cell_type": "code",
   "execution_count": 14,
   "id": "36346f3b",
   "metadata": {},
   "outputs": [
    {
     "name": "stdout",
     "output_type": "stream",
     "text": [
      "enter an integer between 0 and 22595\n",
      "the ASCII character for 95 is : _\n"
     ]
    }
   ],
   "source": [
    "num=int(input(\"enter an integer between 0 and 225\"))\n",
    "char=chr(num)\n",
    "print(f\"the ASCII character for {num} is : {char}\")"
   ]
  },
  {
   "cell_type": "code",
   "execution_count": 15,
   "id": "0a832b89",
   "metadata": {},
   "outputs": [
    {
     "name": "stdout",
     "output_type": "stream",
     "text": [
      "complex number (real+imag): (3+4j)\n"
     ]
    }
   ],
   "source": [
    "c1=complex(3,4)\n",
    "print(\"complex number (real+imag):\",c1)"
   ]
  }
 ],
 "metadata": {
  "kernelspec": {
   "display_name": "Python 3 (ipykernel)",
   "language": "python",
   "name": "python3"
  },
  "language_info": {
   "codemirror_mode": {
    "name": "ipython",
    "version": 3
   },
   "file_extension": ".py",
   "mimetype": "text/x-python",
   "name": "python",
   "nbconvert_exporter": "python",
   "pygments_lexer": "ipython3",
   "version": "3.11.4"
  }
 },
 "nbformat": 4,
 "nbformat_minor": 5
}
