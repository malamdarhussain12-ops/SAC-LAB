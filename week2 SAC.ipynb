{
 "cells": [
  {
   "cell_type": "code",
   "execution_count": 27,
   "id": "50791189",
   "metadata": {},
   "outputs": [],
   "source": [
    "myvar = \"PYTHON\"\n",
    "my_var = \"PYTHON\"\n",
    "_my_var = \"PYTHON\"\n",
    "myVar = \"PYTHON\"\n",
    "MYVAR = \"PYTHON\"\n",
    "MYVAR2 = \"PYTHON\""
   ]
  },
  {
   "cell_type": "code",
   "execution_count": 5,
   "id": "637afd23",
   "metadata": {},
   "outputs": [
    {
     "ename": "SyntaxError",
     "evalue": "invalid decimal literal (1372507677.py, line 1)",
     "output_type": "error",
     "traceback": [
      "\u001b[1;36m  Cell \u001b[1;32mIn[5], line 1\u001b[1;36m\u001b[0m\n\u001b[1;33m    2myvar =\"PYTHON\"\u001b[0m\n\u001b[1;37m    ^\u001b[0m\n\u001b[1;31mSyntaxError\u001b[0m\u001b[1;31m:\u001b[0m invalid decimal literal\n"
     ]
    }
   ],
   "source": [
    "2myvar =\"PYTHON\"\n",
    "my-var = \"PYTHON\"\n",
    "my var = \"PYTHON\""
   ]
  },
  {
   "cell_type": "code",
   "execution_count": 7,
   "id": "81a26c29",
   "metadata": {},
   "outputs": [
    {
     "name": "stdout",
     "output_type": "stream",
     "text": [
      "5\n",
      "6\n",
      "0.6666666666666666\n",
      "2\n",
      "0\n",
      "-1\n"
     ]
    }
   ],
   "source": [
    "x=2\n",
    "y=3\n",
    "print(x+y)\n",
    "print(x*y)\n",
    "print(x/y)\n",
    "print(x%y)\n",
    "print(x//y)\n",
    "print(x-y)\n"
   ]
  },
  {
   "cell_type": "code",
   "execution_count": 11,
   "id": "1b348cb8",
   "metadata": {},
   "outputs": [
    {
     "name": "stdout",
     "output_type": "stream",
     "text": [
      "<class 'str'>\n",
      "3\n",
      "3.0\n"
     ]
    }
   ],
   "source": [
    "x = str(3)\n",
    "y = int(3)\n",
    "z = float(3)\n",
    "print(type(x))\n",
    "print(y)\n",
    "print(z)"
   ]
  },
  {
   "cell_type": "code",
   "execution_count": 12,
   "id": "8ed588aa",
   "metadata": {},
   "outputs": [
    {
     "name": "stdout",
     "output_type": "stream",
     "text": [
      "<class 'int'>\n",
      "<class 'str'>\n"
     ]
    }
   ],
   "source": [
    "x = 5\n",
    "y = \"AI-B\"\n",
    "print(type(x))\n",
    "print(type(y))"
   ]
  },
  {
   "cell_type": "code",
   "execution_count": 13,
   "id": "0bf1cabc",
   "metadata": {},
   "outputs": [
    {
     "name": "stdout",
     "output_type": "stream",
     "text": [
      "ok\n",
      "good\n"
     ]
    }
   ],
   "source": [
    "x = \"ok\"\n",
    "print(x)\n",
    "x = \"good\"\n",
    "print(x)"
   ]
  },
  {
   "cell_type": "code",
   "execution_count": 20,
   "id": "9da9f908",
   "metadata": {},
   "outputs": [
    {
     "name": "stdout",
     "output_type": "stream",
     "text": [
      "list\n",
      "4\n"
     ]
    }
   ],
   "source": [
    "a=4\n",
    "A=\"list\"\n",
    "print(A)\n",
    "print(a)"
   ]
  },
  {
   "cell_type": "code",
   "execution_count": 21,
   "id": "1cd8a321",
   "metadata": {},
   "outputs": [
    {
     "name": "stdout",
     "output_type": "stream",
     "text": [
      "PYTHON\n",
      "PYTHON\n",
      "PYTHON\n"
     ]
    }
   ],
   "source": [
    "x = y = z =\"PYTHON\"\n",
    "print(x)\n",
    "print(y)\n",
    "print(z)"
   ]
  },
  {
   "cell_type": "code",
   "execution_count": 23,
   "id": "b703735c",
   "metadata": {},
   "outputs": [
    {
     "name": "stdout",
     "output_type": "stream",
     "text": [
      "PYTHON IS AWESOME\n"
     ]
    }
   ],
   "source": [
    "x = \"PYTHON\"\n",
    "y = \"IS\"\n",
    "z = \"AWESOME\"\n",
    "print(x,y,z)"
   ]
  },
  {
   "cell_type": "code",
   "execution_count": 24,
   "id": "d4fae0d2",
   "metadata": {},
   "outputs": [
    {
     "name": "stdout",
     "output_type": "stream",
     "text": [
      "<class 'complex'>\n"
     ]
    }
   ],
   "source": [
    "z=2+3j\n",
    "print(type(z))"
   ]
  },
  {
   "cell_type": "code",
   "execution_count": 25,
   "id": "f6995394",
   "metadata": {},
   "outputs": [
    {
     "name": "stdout",
     "output_type": "stream",
     "text": [
      "<class 'bool'>\n"
     ]
    }
   ],
   "source": [
    "is_student=True\n",
    "print(type(is_student))\n"
   ]
  },
  {
   "cell_type": "code",
   "execution_count": 26,
   "id": "f6c38b85",
   "metadata": {},
   "outputs": [
    {
     "name": "stdout",
     "output_type": "stream",
     "text": [
      "<class 'bool'>\n"
     ]
    }
   ],
   "source": [
    "is_emp=False\n",
    "print(type(is_emp))"
   ]
  },
  {
   "cell_type": "code",
   "execution_count": 28,
   "id": "84f18f98",
   "metadata": {},
   "outputs": [
    {
     "name": "stdout",
     "output_type": "stream",
     "text": [
      "\"statistical analytics and computing\n",
      "using python lab \n",
      "needs regorous practice\n",
      "<class 'str'>\n"
     ]
    }
   ],
   "source": [
    "subject_name=\"\"\"\"statistical analytics and computing\n",
    "using python lab \n",
    "needs regorous practice\"\"\"\n",
    "print(subject_name)\n",
    "print(type(subject_name))"
   ]
  },
  {
   "cell_type": "code",
   "execution_count": 29,
   "id": "83cb0c7d",
   "metadata": {},
   "outputs": [
    {
     "name": "stdout",
     "output_type": "stream",
     "text": [
      "<class 'str'>\n"
     ]
    }
   ],
   "source": [
    "name=\"a\"\n",
    "print(type(name))"
   ]
  },
  {
   "cell_type": "code",
   "execution_count": 30,
   "id": "07362b2b",
   "metadata": {},
   "outputs": [
    {
     "name": "stdout",
     "output_type": "stream",
     "text": [
      "<class 'str'>\n"
     ]
    }
   ],
   "source": [
    "name='a'\n",
    "print(type(name))"
   ]
  },
  {
   "cell_type": "code",
   "execution_count": 31,
   "id": "54a8003c",
   "metadata": {},
   "outputs": [
    {
     "name": "stdout",
     "output_type": "stream",
     "text": [
      "<class 'NoneType'>\n"
     ]
    }
   ],
   "source": [
    "marks=None\n",
    "print(type(marks))"
   ]
  },
  {
   "cell_type": "code",
   "execution_count": 32,
   "id": "c275e4af",
   "metadata": {},
   "outputs": [
    {
     "name": "stdout",
     "output_type": "stream",
     "text": [
      "enter your name:alamdar\n",
      "welcome alamdar\n"
     ]
    }
   ],
   "source": [
    "'''input()function is used to gather date from the user\n",
    "the syntax for input function is \n",
    "variable_name=input([promt])'''\n",
    "name=input(\"enter your name:\")\n",
    "print(\"welcome\",name)"
   ]
  },
  {
   "cell_type": "code",
   "execution_count": null,
   "id": "3ae90d90",
   "metadata": {},
   "outputs": [],
   "source": []
  }
 ],
 "metadata": {
  "kernelspec": {
   "display_name": "Python 3 (ipykernel)",
   "language": "python",
   "name": "python3"
  },
  "language_info": {
   "codemirror_mode": {
    "name": "ipython",
    "version": 3
   },
   "file_extension": ".py",
   "mimetype": "text/x-python",
   "name": "python",
   "nbconvert_exporter": "python",
   "pygments_lexer": "ipython3",
   "version": "3.11.4"
  }
 },
 "nbformat": 4,
 "nbformat_minor": 5
}
